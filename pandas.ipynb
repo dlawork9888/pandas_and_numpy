{
 "cells": [
  {
   "cell_type": "markdown",
   "id": "0b3e739f-f251-44af-9483-2e69ec8ba8aa",
   "metadata": {},
   "source": [
    "# Pandas"
   ]
  },
  {
   "cell_type": "code",
   "execution_count": 3,
   "id": "8c3ff17f-dc3f-44d8-b8c5-6e00c44d401c",
   "metadata": {},
   "outputs": [],
   "source": [
    "import pandas as pd"
   ]
  },
  {
   "cell_type": "markdown",
   "id": "ad1ae531-452f-4068-a8c8-a380d94cedfa",
   "metadata": {},
   "source": [
    "### Series\n",
    "인덱스에 값 => 1차원"
   ]
  },
  {
   "cell_type": "code",
   "execution_count": 47,
   "id": "6aa87170-3957-4fff-b05f-850516093abf",
   "metadata": {},
   "outputs": [],
   "source": [
    "# 샘플 데이터 생성\n",
    "index = ['i0','i1','i2','i3']\n",
    "values = [0,1,2,3]\n",
    "\n",
    "series_0 = pd.Series(values, index = index)"
   ]
  },
  {
   "cell_type": "code",
   "execution_count": 48,
   "id": "529406ca-fce0-4e75-8868-d9b82d69aee9",
   "metadata": {},
   "outputs": [
    {
     "data": {
      "text/plain": [
       "i0    0\n",
       "i1    1\n",
       "i2    2\n",
       "i3    3\n",
       "dtype: int64"
      ]
     },
     "execution_count": 48,
     "metadata": {},
     "output_type": "execute_result"
    }
   ],
   "source": [
    "series_0"
   ]
  },
  {
   "cell_type": "code",
   "execution_count": 49,
   "id": "864c6914-6162-45f4-9b23-faf850350d11",
   "metadata": {},
   "outputs": [],
   "source": [
    "# 시리즈에 이름 달아주기\n",
    "series_0.name = 'series_0'\n",
    "series_0.index.name = 'index'"
   ]
  },
  {
   "cell_type": "code",
   "execution_count": 50,
   "id": "7244cc50-e05c-4e5a-8bd9-b8da2e9f1ec3",
   "metadata": {},
   "outputs": [
    {
     "data": {
      "text/plain": [
       "index\n",
       "i0    0\n",
       "i1    1\n",
       "i2    2\n",
       "i3    3\n",
       "Name: series_0, dtype: int64"
      ]
     },
     "execution_count": 50,
     "metadata": {},
     "output_type": "execute_result"
    }
   ],
   "source": [
    "series_0"
   ]
  },
  {
   "cell_type": "code",
   "execution_count": 51,
   "id": "ec91fb28-271b-408c-ace9-80e9564c4d18",
   "metadata": {},
   "outputs": [
    {
     "name": "stdout",
     "output_type": "stream",
     "text": [
      "index\n",
      "i0    1\n",
      "i1    2\n",
      "i2    3\n",
      "i3    4\n",
      "Name: series_0, dtype: int64\n",
      "index\n",
      "i0    0.0\n",
      "i1    0.1\n",
      "i2    0.2\n",
      "i3    0.3\n",
      "Name: series_0, dtype: float64\n"
     ]
    }
   ],
   "source": [
    "# 시리즈에 단일값연산\n",
    "print(series_0 + 1)\n",
    "print(series_0 / 10)"
   ]
  },
  {
   "cell_type": "code",
   "execution_count": 52,
   "id": "0e8ce881-09a3-4b32-937b-0d12041977a6",
   "metadata": {},
   "outputs": [
    {
     "name": "stdout",
     "output_type": "stream",
     "text": [
      "index\n",
      "i0    0\n",
      "i1    2\n",
      "i2    4\n",
      "i3    6\n",
      "dtype: int64\n",
      "index\n",
      "i0    NaN\n",
      "i1    1.0\n",
      "i2    1.0\n",
      "i3    1.0\n",
      "dtype: float64\n"
     ]
    }
   ],
   "source": [
    "# 시리즈끼리 연산\n",
    "series_1 = pd.Series(values, index = index)\n",
    "\n",
    "print(series_0 + series_1)\n",
    "print(series_0 / series_1)\n",
    "\n",
    "series_2 = series_0 / series_1"
   ]
  },
  {
   "cell_type": "code",
   "execution_count": 53,
   "id": "74a59668-ce36-4c56-811a-e859f87312cf",
   "metadata": {},
   "outputs": [
    {
     "name": "stdout",
     "output_type": "stream",
     "text": [
      "index\n",
      "i0    False\n",
      "i1     True\n",
      "i2     True\n",
      "i3     True\n",
      "dtype: bool\n",
      "index\n",
      "i1    1.0\n",
      "i2    1.0\n",
      "i3    1.0\n",
      "dtype: float64\n"
     ]
    }
   ],
   "source": [
    "# notnull\n",
    "not_null = series_2.notnull()\n",
    "print(not_null)\n",
    "print(series_2[not_null])"
   ]
  },
  {
   "cell_type": "code",
   "execution_count": 54,
   "id": "9ca2bc88-e544-4949-985a-2fb1c1aa5bb4",
   "metadata": {},
   "outputs": [
    {
     "name": "stdout",
     "output_type": "stream",
     "text": [
      "index\n",
      "i0     True\n",
      "i1    False\n",
      "i2    False\n",
      "i3    False\n",
      "dtype: bool\n",
      "index\n",
      "i0   NaN\n",
      "dtype: float64\n"
     ]
    }
   ],
   "source": [
    "#isnull\n",
    "is_null = series_2.isnull()\n",
    "print(is_null)\n",
    "print(series_2[is_null])"
   ]
  },
  {
   "cell_type": "code",
   "execution_count": 55,
   "id": "e0a90b35-155d-4426-bbc9-f490aa849345",
   "metadata": {},
   "outputs": [
    {
     "name": "stdout",
     "output_type": "stream",
     "text": [
      "index\n",
      "i0    NaN\n",
      "i1    1.0\n",
      "i2    1.0\n",
      "i3    1.0\n",
      "dtype: float64\n",
      "index\n",
      "i0    1.0\n",
      "i1    1.0\n",
      "i2    1.0\n",
      "i3    1.0\n",
      "dtype: float64\n"
     ]
    }
   ],
   "source": [
    "# 시리즈 값 수정\n",
    "print(series_2)\n",
    "\n",
    "series_2['i0'] = 1\n",
    "print(series_2)"
   ]
  },
  {
   "cell_type": "code",
   "execution_count": 56,
   "id": "431411ff-a581-4723-8e7a-9068548e47a9",
   "metadata": {},
   "outputs": [
    {
     "name": "stdout",
     "output_type": "stream",
     "text": [
      "index\n",
      "i0    1.0\n",
      "i1    1.0\n",
      "i2    1.0\n",
      "i3    1.0\n",
      "dtype: float64\n",
      "index\n",
      "i1    1.0\n",
      "i2    1.0\n",
      "i3    1.0\n",
      "dtype: float64\n"
     ]
    }
   ],
   "source": [
    "# 시리즈 값 삭제\n",
    "print(series_2)\n",
    "\n",
    "del series_2['i0']\n",
    "print(series_2)"
   ]
  },
  {
   "cell_type": "code",
   "execution_count": 57,
   "id": "03bb8b8b-c271-4b00-8f39-bcd7d44f5fdd",
   "metadata": {},
   "outputs": [
    {
     "name": "stdout",
     "output_type": "stream",
     "text": [
      "index\n",
      "i1    1.0\n",
      "i2    1.0\n",
      "i3    1.0\n",
      "dtype: float64\n",
      "index\n",
      "i1    1.0\n",
      "i2    1.0\n",
      "i3    1.0\n",
      "i0    1.0\n",
      "dtype: float64\n"
     ]
    }
   ],
   "source": [
    "# 시리즈 값 추가\n",
    "print(series_2)\n",
    "\n",
    "series_2['i0'] = 1\n",
    "print(series_2)"
   ]
  },
  {
   "cell_type": "code",
   "execution_count": 81,
   "id": "490b5f35-4156-45fe-8af3-65466cb46d32",
   "metadata": {},
   "outputs": [
    {
     "name": "stdout",
     "output_type": "stream",
     "text": [
      "index\n",
      "i0    0\n",
      "i1    1\n",
      "i2    2\n",
      "i3    3\n",
      "Name: series_0, dtype: int64\n",
      "0\n",
      "0\n",
      "index\n",
      "i0    0\n",
      "i1    1\n",
      "Name: series_0, dtype: int64\n",
      "index\n",
      "i0    0\n",
      "i1    1\n",
      "Name: series_0, dtype: int64\n",
      "index\n",
      "i0    0\n",
      "i1    1\n",
      "Name: series_0, dtype: int64\n",
      "index\n",
      "i0    0\n",
      "i1    1\n",
      "i2    2\n",
      "Name: series_0, dtype: int64\n"
     ]
    }
   ],
   "source": [
    "# 시리즈 인덱싱\n",
    "print(series_0)\n",
    "\n",
    "print(series_0.iloc[0])\n",
    "print(series_0.loc['i0'])\n",
    "print(series_0.iloc[[0,1]])\n",
    "print(series_0.loc[['i0','i1']])\n",
    "print(series_0.iloc[0:2])\n",
    "print(series_0.loc['i0':'i2']) # 마지막 녀석도 포함"
   ]
  },
  {
   "cell_type": "markdown",
   "id": "736fd838-e50a-46a7-97ff-ab163088c10a",
   "metadata": {},
   "source": [
    "### DataFrame\n",
    "2차원 배열"
   ]
  },
  {
   "cell_type": "code",
   "execution_count": 11,
   "id": "c45a96d8-98de-47b5-879b-0d749d5aedd6",
   "metadata": {},
   "outputs": [
    {
     "data": {
      "text/html": [
       "<div>\n",
       "<style scoped>\n",
       "    .dataframe tbody tr th:only-of-type {\n",
       "        vertical-align: middle;\n",
       "    }\n",
       "\n",
       "    .dataframe tbody tr th {\n",
       "        vertical-align: top;\n",
       "    }\n",
       "\n",
       "    .dataframe thead th {\n",
       "        text-align: right;\n",
       "    }\n",
       "</style>\n",
       "<table border=\"1\" class=\"dataframe\">\n",
       "  <thead>\n",
       "    <tr style=\"text-align: right;\">\n",
       "      <th></th>\n",
       "      <th>c0</th>\n",
       "      <th>c1</th>\n",
       "      <th>c2</th>\n",
       "      <th>c3</th>\n",
       "    </tr>\n",
       "  </thead>\n",
       "  <tbody>\n",
       "    <tr>\n",
       "      <th>i0</th>\n",
       "      <td>0.0</td>\n",
       "      <td>0.1</td>\n",
       "      <td>0.2</td>\n",
       "      <td>0.3</td>\n",
       "    </tr>\n",
       "    <tr>\n",
       "      <th>i1</th>\n",
       "      <td>1.0</td>\n",
       "      <td>1.1</td>\n",
       "      <td>1.2</td>\n",
       "      <td>1.3</td>\n",
       "    </tr>\n",
       "    <tr>\n",
       "      <th>i2</th>\n",
       "      <td>2.0</td>\n",
       "      <td>2.1</td>\n",
       "      <td>2.2</td>\n",
       "      <td>2.3</td>\n",
       "    </tr>\n",
       "    <tr>\n",
       "      <th>i3</th>\n",
       "      <td>3.0</td>\n",
       "      <td>3.1</td>\n",
       "      <td>3.2</td>\n",
       "      <td>3.3</td>\n",
       "    </tr>\n",
       "  </tbody>\n",
       "</table>\n",
       "</div>"
      ],
      "text/plain": [
       "     c0   c1   c2   c3\n",
       "i0  0.0  0.1  0.2  0.3\n",
       "i1  1.0  1.1  1.2  1.3\n",
       "i2  2.0  2.1  2.2  2.3\n",
       "i3  3.0  3.1  3.2  3.3"
      ]
     },
     "execution_count": 11,
     "metadata": {},
     "output_type": "execute_result"
    }
   ],
   "source": [
    "# 배열 생성\n",
    "cols = ['c0', 'c1', 'c2', 'c3']\n",
    "index = ['i0','i1','i2','i3']\n",
    "values = [[r/10 for r in range(4)] for c in range(4)]\n",
    "for idx, row in enumerate(values):\n",
    "    now_row = values[idx]\n",
    "    for idx_2, element in enumerate(now_row):\n",
    "        now_row[idx_2] += idx\n",
    "\n",
    "df_0 = pd.DataFrame(values, index = index, columns = cols)\n",
    "df_0"
   ]
  },
  {
   "cell_type": "code",
   "execution_count": 12,
   "id": "4f1f4836-4d11-43f7-b05d-893aec1523c1",
   "metadata": {},
   "outputs": [],
   "source": [
    "# 인덱스 재설정\n",
    "# df_0.set_index('c0')"
   ]
  },
  {
   "cell_type": "code",
   "execution_count": 13,
   "id": "8fdf7310-ee69-410f-9c8b-f5b5bf7efba5",
   "metadata": {},
   "outputs": [
    {
     "name": "stdout",
     "output_type": "stream",
     "text": [
      "i0    0.0\n",
      "i1    1.0\n",
      "i2    2.0\n",
      "i3    3.0\n",
      "Name: c0, dtype: float64\n",
      "     c1   c2\n",
      "i0  0.1  0.2\n",
      "i1  1.1  1.2\n",
      "i2  2.1  2.2\n",
      "i3  3.1  3.2\n",
      "c0    1.0\n",
      "c1    1.1\n",
      "c2    1.2\n",
      "c3    1.3\n",
      "Name: i1, dtype: float64\n",
      "c0    2.0\n",
      "c1    2.1\n",
      "c2    2.2\n",
      "c3    2.3\n",
      "Name: i2, dtype: float64\n"
     ]
    }
   ],
   "source": [
    "# 열 선택\n",
    "print(df_0['c0'])  # 'c0' 열 선택\n",
    "print(df_0[['c1', 'c2']])  # 'c1', 'c2' 열 선택\n",
    "\n",
    "# 행 선택\n",
    "print(df_0.loc['i1'])  # 'i1' 행 선택\n",
    "print(df_0.iloc[2])  # 인덱스가 2인 행 선택\n"
   ]
  },
  {
   "cell_type": "code",
   "execution_count": 14,
   "id": "7e0c683e-9e77-4b28-aeb3-ec988d3466f9",
   "metadata": {},
   "outputs": [
    {
     "data": {
      "text/html": [
       "<div>\n",
       "<style scoped>\n",
       "    .dataframe tbody tr th:only-of-type {\n",
       "        vertical-align: middle;\n",
       "    }\n",
       "\n",
       "    .dataframe tbody tr th {\n",
       "        vertical-align: top;\n",
       "    }\n",
       "\n",
       "    .dataframe thead th {\n",
       "        text-align: right;\n",
       "    }\n",
       "</style>\n",
       "<table border=\"1\" class=\"dataframe\">\n",
       "  <thead>\n",
       "    <tr style=\"text-align: right;\">\n",
       "      <th></th>\n",
       "      <th>c0</th>\n",
       "      <th>c1</th>\n",
       "      <th>c2</th>\n",
       "      <th>c3</th>\n",
       "    </tr>\n",
       "  </thead>\n",
       "  <tbody>\n",
       "    <tr>\n",
       "      <th>i0</th>\n",
       "      <td>0.5</td>\n",
       "      <td>0.5</td>\n",
       "      <td>0.50</td>\n",
       "      <td>0.5</td>\n",
       "    </tr>\n",
       "    <tr>\n",
       "      <th>i1</th>\n",
       "      <td>1.0</td>\n",
       "      <td>1.1</td>\n",
       "      <td>1.20</td>\n",
       "      <td>3.4</td>\n",
       "    </tr>\n",
       "    <tr>\n",
       "      <th>i2</th>\n",
       "      <td>2.0</td>\n",
       "      <td>2.1</td>\n",
       "      <td>2.25</td>\n",
       "      <td>3.4</td>\n",
       "    </tr>\n",
       "    <tr>\n",
       "      <th>i3</th>\n",
       "      <td>3.0</td>\n",
       "      <td>3.1</td>\n",
       "      <td>3.20</td>\n",
       "      <td>3.4</td>\n",
       "    </tr>\n",
       "  </tbody>\n",
       "</table>\n",
       "</div>"
      ],
      "text/plain": [
       "     c0   c1    c2   c3\n",
       "i0  0.5  0.5  0.50  0.5\n",
       "i1  1.0  1.1  1.20  3.4\n",
       "i2  2.0  2.1  2.25  3.4\n",
       "i3  3.0  3.1  3.20  3.4"
      ]
     },
     "execution_count": 14,
     "metadata": {},
     "output_type": "execute_result"
    }
   ],
   "source": [
    "# 특정 셀 값 변경\n",
    "df_0.at['i2', 'c2'] = 2.25\n",
    "\n",
    "# 특정 행 또는 열 값 변경\n",
    "df_0['c3'] = 3.4  # 'c3' 열의 모든 값 변경\n",
    "df_0.loc['i0'] = 0.5  # 'i0' 행의 모든 값 변경\n",
    "\n",
    "df_0"
   ]
  },
  {
   "cell_type": "code",
   "execution_count": 15,
   "id": "ba0949ef-e159-46da-8108-212e16d0288e",
   "metadata": {},
   "outputs": [
    {
     "name": "stdout",
     "output_type": "stream",
     "text": [
      "c0          1.6250\n",
      "c1          1.7000\n",
      "c2          1.7875\n",
      "c3          2.6750\n",
      "c_1_2sum    3.4875\n",
      "dtype: float64\n",
      "3.1\n"
     ]
    },
    {
     "data": {
      "text/html": [
       "<div>\n",
       "<style scoped>\n",
       "    .dataframe tbody tr th:only-of-type {\n",
       "        vertical-align: middle;\n",
       "    }\n",
       "\n",
       "    .dataframe tbody tr th {\n",
       "        vertical-align: top;\n",
       "    }\n",
       "\n",
       "    .dataframe thead th {\n",
       "        text-align: right;\n",
       "    }\n",
       "</style>\n",
       "<table border=\"1\" class=\"dataframe\">\n",
       "  <thead>\n",
       "    <tr style=\"text-align: right;\">\n",
       "      <th></th>\n",
       "      <th>c0</th>\n",
       "      <th>c1</th>\n",
       "      <th>c2</th>\n",
       "      <th>c3</th>\n",
       "      <th>c_1_2sum</th>\n",
       "    </tr>\n",
       "  </thead>\n",
       "  <tbody>\n",
       "    <tr>\n",
       "      <th>i0</th>\n",
       "      <td>0.5</td>\n",
       "      <td>0.5</td>\n",
       "      <td>0.50</td>\n",
       "      <td>0.5</td>\n",
       "      <td>1.00</td>\n",
       "    </tr>\n",
       "    <tr>\n",
       "      <th>i1</th>\n",
       "      <td>1.0</td>\n",
       "      <td>1.1</td>\n",
       "      <td>1.20</td>\n",
       "      <td>3.4</td>\n",
       "      <td>2.30</td>\n",
       "    </tr>\n",
       "    <tr>\n",
       "      <th>i2</th>\n",
       "      <td>2.0</td>\n",
       "      <td>2.1</td>\n",
       "      <td>2.25</td>\n",
       "      <td>3.4</td>\n",
       "      <td>4.35</td>\n",
       "    </tr>\n",
       "    <tr>\n",
       "      <th>i3</th>\n",
       "      <td>3.0</td>\n",
       "      <td>3.1</td>\n",
       "      <td>3.20</td>\n",
       "      <td>3.4</td>\n",
       "      <td>6.30</td>\n",
       "    </tr>\n",
       "  </tbody>\n",
       "</table>\n",
       "</div>"
      ],
      "text/plain": [
       "     c0   c1    c2   c3  c_1_2sum\n",
       "i0  0.5  0.5  0.50  0.5      1.00\n",
       "i1  1.0  1.1  1.20  3.4      2.30\n",
       "i2  2.0  2.1  2.25  3.4      4.35\n",
       "i3  3.0  3.1  3.20  3.4      6.30"
      ]
     },
     "execution_count": 15,
     "metadata": {},
     "output_type": "execute_result"
    }
   ],
   "source": [
    "# 열 간 연산\n",
    "df_0['c_1_2sum'] = df_0['c1'] + df_0['c2']\n",
    "\n",
    "# 통계량 계산\n",
    "print(df_0.mean())  # 각 열의 평균값 계산\n",
    "print(df_0['c1'].max())  # 'c1' 열의 최댓값\n",
    "\n",
    "df_0"
   ]
  }
 ],
 "metadata": {
  "kernelspec": {
   "display_name": "Python 3 (ipykernel)",
   "language": "python",
   "name": "python3"
  },
  "language_info": {
   "codemirror_mode": {
    "name": "ipython",
    "version": 3
   },
   "file_extension": ".py",
   "mimetype": "text/x-python",
   "name": "python",
   "nbconvert_exporter": "python",
   "pygments_lexer": "ipython3",
   "version": "3.11.5"
  }
 },
 "nbformat": 4,
 "nbformat_minor": 5
}
